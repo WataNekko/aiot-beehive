{
 "cells": [
  {
   "cell_type": "markdown",
   "metadata": {},
   "source": [
    "## Import libraries and setup dotenv"
   ]
  },
  {
   "cell_type": "code",
   "execution_count": 15,
   "metadata": {},
   "outputs": [
    {
     "data": {
      "text/plain": [
       "True"
      ]
     },
     "execution_count": 15,
     "metadata": {},
     "output_type": "execute_result"
    }
   ],
   "source": [
    "import tensorflow as tf\n",
    "import os\n",
    "import json\n",
    "import random\n",
    "from dotenv import load_dotenv\n",
    "load_dotenv()"
   ]
  },
  {
   "cell_type": "markdown",
   "metadata": {},
   "source": [
    "# Define augment function"
   ]
  },
  {
   "cell_type": "code",
   "execution_count": 16,
   "metadata": {},
   "outputs": [],
   "source": [
    "def augment(image, seed_left_right, seed_up_down, seed_brightness, seed_saturation, seed_contrast, seed_hue, jpeg_quality):\n",
    "    image = tf.image.stateless_random_flip_left_right(image, seed=seed_left_right)\n",
    "    image = tf.image.stateless_random_flip_up_down(image, seed=seed_up_down)\n",
    "    image = tf.image.stateless_random_brightness(image, max_delta=0.2, seed=seed_brightness)\n",
    "    image = tf.image.stateless_random_saturation(image, lower=0.5, upper=1.5, seed=seed_saturation)\n",
    "    image = tf.image.stateless_random_contrast(image, lower=0.7, upper=1.3, seed=seed_contrast)\n",
    "    image = tf.image.stateless_random_hue(image, max_delta=0.3, seed=seed_hue)\n",
    "    image = tf.image.encode_jpeg(image, quality=jpeg_quality)\n",
    "    image = tf.image.decode_jpeg(image, channels=3)\n",
    "    return image"
   ]
  },
  {
   "cell_type": "markdown",
   "metadata": {},
   "source": [
    "# Path"
   ]
  },
  {
   "cell_type": "code",
   "execution_count": 17,
   "metadata": {},
   "outputs": [],
   "source": [
    "# original dataset folder path\n",
    "folder_path = os.getenv('dataset_path')\n",
    "\n",
    "# label file path\n",
    "labels_file = os.getenv(\"labels_file\")\n",
    "\n",
    "# Load image labels from the JSON file\n",
    "with open(labels_file, 'r') as f:\n",
    "    image_labels = json.load(f)\n",
    "\n",
    "# export path\n",
    "augmented_folder_path = os.getenv(\"export_path\")\n",
    "os.makedirs(augmented_folder_path, exist_ok=True)"
   ]
  },
  {
   "cell_type": "markdown",
   "metadata": {},
   "source": [
    "# Augment the dataset"
   ]
  },
  {
   "cell_type": "code",
   "execution_count": 18,
   "metadata": {},
   "outputs": [
    {
     "name": "stdout",
     "output_type": "stream",
     "text": [
      "Image Label: {}\n",
      "Augmented image saved as C:\\Users\\Chuon\\OneDrive\\Tài liệu\\GitHub\\aiot-beehive\\test\\test data/export\\augmented_images_150_augmented_images_test_augmented_images_test_00pzxyf7I104MloVPWGS1tYY4fnk2kDO.jpeg\n",
      "\n",
      "Image Label: {}\n",
      "Augmented image saved as C:\\Users\\Chuon\\OneDrive\\Tài liệu\\GitHub\\aiot-beehive\\test\\test data/export\\augmented_images_150_augmented_images_test_augmented_images_test_augmented_images_test_00pzxyf7I104MloVPWGS1tYY4fnk2kDO.jpeg\n",
      "\n",
      "Image Label: {}\n",
      "Augmented image saved as C:\\Users\\Chuon\\OneDrive\\Tài liệu\\GitHub\\aiot-beehive\\test\\test data/export\\augmented_images_150_augmented_images_test_augmented_images_test_augmented_images_test_augmented_images_test_00pzxyf7I104MloVPWGS1tYY4fnk2kDO.jpeg\n",
      "\n"
     ]
    }
   ],
   "source": [
    "for image_file in os.listdir(folder_path):\n",
    "    if image_file.endswith(('.jpg', '.jpeg', '.png', '.bmp')):\n",
    "        # Load the image\n",
    "        image_path = os.path.join(folder_path, image_file)\n",
    "        image = tf.io.read_file(image_path)\n",
    "        image = tf.image.decode_image(image)\n",
    "\n",
    "        # Get the image filename\n",
    "        image_filename = os.path.basename(image_file)\n",
    "\n",
    "        # Get the labels for the image from the JSON file\n",
    "        image_label = image_labels.get(image_filename, {})\n",
    "\n",
    "        # Generate unique seeds for each attribute for every image\n",
    "        seed_left_right = tf.random.uniform(shape=(2,), maxval=10000, dtype=tf.int32)\n",
    "        seed_up_down = tf.random.uniform(shape=(2,), maxval=10000, dtype=tf.int32)\n",
    "        seed_brightness = tf.random.uniform(shape=(2,), maxval=10000, dtype=tf.int32)\n",
    "        seed_saturation = tf.random.uniform(shape=(2,), maxval=10000, dtype=tf.int32)\n",
    "        seed_contrast = tf.random.uniform(shape=(2,), maxval=10000, dtype=tf.int32)\n",
    "        seed_hue = tf.random.uniform(shape=(2,), maxval=10000, dtype=tf.int32)\n",
    "        jpeg_quality = random.randint(80, 95)  # Generate a random JPEG quality value\n",
    "\n",
    "        # Apply data augmentation to the image with unique seeds for each attribute\n",
    "        augmented_image = augment(image, seed_left_right, seed_up_down, seed_brightness, seed_saturation, seed_contrast, seed_hue, jpeg_quality)\n",
    "\n",
    "        # Define the filename for the augmented image\n",
    "        augmented_image_filename = f'augmented_images_150_{image_filename}'\n",
    "\n",
    "        # Save the augmented image as a JPEG file in the augmented folder\n",
    "        augmented_image_path = os.path.join(augmented_folder_path, augmented_image_filename)\n",
    "        tf.io.write_file(augmented_image_path, tf.image.encode_jpeg(augmented_image))\n",
    "\n",
    "        # Update the image labels with the augmented image's filename and labels\n",
    "        augmented_image_label = {augmented_image_filename: image_label}\n",
    "        image_labels.update(augmented_image_label)\n",
    "\n",
    "        # Print the image label and the path where the augmented image is saved\n",
    "        print(f\"Image Label: {image_label}\")\n",
    "        print(f\"Augmented image saved as {augmented_image_path}\\n\")"
   ]
  },
  {
   "cell_type": "markdown",
   "metadata": {},
   "source": [
    "# Update label file"
   ]
  },
  {
   "cell_type": "code",
   "execution_count": 19,
   "metadata": {},
   "outputs": [
    {
     "name": "stdout",
     "output_type": "stream",
     "text": [
      "Updated JSON file with augmented image labels.\n"
     ]
    }
   ],
   "source": [
    "with open(labels_file, 'w') as f:\n",
    "    json.dump(image_labels, f, indent=4)\n",
    "\n",
    "print(\"Updated JSON file with augmented image labels.\")"
   ]
  }
 ],
 "metadata": {
  "kernelspec": {
   "display_name": "base",
   "language": "python",
   "name": "python3"
  },
  "language_info": {
   "codemirror_mode": {
    "name": "ipython",
    "version": 3
   },
   "file_extension": ".py",
   "mimetype": "text/x-python",
   "name": "python",
   "nbconvert_exporter": "python",
   "pygments_lexer": "ipython3",
   "version": "3.11.5"
  }
 },
 "nbformat": 4,
 "nbformat_minor": 2
}
