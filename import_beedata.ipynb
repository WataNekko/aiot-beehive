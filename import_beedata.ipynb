{
 "cells": [
  {
   "cell_type": "code",
   "execution_count": 44,
   "metadata": {},
   "outputs": [],
   "source": [
    "# Import libraries\n",
    "import os\n",
    "import cv2\n",
    "import random\n",
    "import tensorflow as tf\n",
    "import numpy as np\n",
    "import matplotlib.pyplot as plt"
   ]
  },
  {
   "cell_type": "code",
   "execution_count": 45,
   "metadata": {},
   "outputs": [],
   "source": [
    "# Set directories\n",
    "root_dir = os.getcwd()\n",
    "data_dir = os.path.join('D:\\my dataset\\original_BeeDataset_20201121')\n",
    "test_dir = os.path.join(root_dir, 'test-dataset')"
   ]
  },
  {
   "cell_type": "code",
   "execution_count": 46,
   "metadata": {},
   "outputs": [],
   "source": [
    "tf.random.set_seed(42)\n",
    "random.seed(42)\n",
    "np.random.seed(42)"
   ]
  },
  {
   "cell_type": "code",
   "execution_count": 47,
   "metadata": {},
   "outputs": [],
   "source": [
    "IMG_SIZE = (150, 300)\n",
    "IMG_SHAPE = IMG_SIZE + (3,)"
   ]
  },
  {
   "cell_type": "code",
   "execution_count": 48,
   "metadata": {},
   "outputs": [
    {
     "name": "stdout",
     "output_type": "stream",
     "text": [
      "Found 7650 files belonging to 5 classes.\n",
      "Using 6120 files for training.\n",
      "Found 7650 files belonging to 5 classes.\n",
      "Using 1530 files for validation.\n"
     ]
    }
   ],
   "source": [
    "# Load data\n",
    "# Load data for training\n",
    "train_ds = tf.keras.utils.image_dataset_from_directory(\n",
    "    data_dir,\n",
    "    seed=42,\n",
    "    validation_split=0.2,  # 20% of the data for validation\n",
    "    subset='training',\n",
    "    batch_size=32,\n",
    "    image_size=IMG_SIZE,\n",
    ")\n",
    "\n",
    "# Load data for testing (using the remaining data)\n",
    "test_ds = tf.keras.utils.image_dataset_from_directory(\n",
    "    data_dir,\n",
    "    seed=42,\n",
    "    validation_split=0.2,  # The remaining 20% for testing\n",
    "    subset='validation',\n",
    "    batch_size=32,\n",
    "    image_size=IMG_SIZE,\n",
    ")"
   ]
  }
 ],
 "metadata": {
  "kernelspec": {
   "display_name": "py-env",
   "language": "python",
   "name": "python3"
  },
  "language_info": {
   "codemirror_mode": {
    "name": "ipython",
    "version": 3
   },
   "file_extension": ".py",
   "mimetype": "text/x-python",
   "name": "python",
   "nbconvert_exporter": "python",
   "pygments_lexer": "ipython3",
   "version": "3.11.5"
  }
 },
 "nbformat": 4,
 "nbformat_minor": 2
}
